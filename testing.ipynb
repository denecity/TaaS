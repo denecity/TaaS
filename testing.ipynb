{
 "cells": [
  {
   "cell_type": "code",
   "execution_count": null,
   "id": "df06cbdc",
   "metadata": {},
   "outputs": [
    {
     "name": "stdout",
     "output_type": "stream",
     "text": [
      "<backend.server.Server object at 0x7fff0c5e6c50>\n",
      "Discovered routine: auto_chunk_miner\n",
      "Discovered routine: avoid_gold_dig_diamond\n",
      "Discovered routine: execute_command\n",
      "Discovered routine: move_to_coordinate\n",
      "Discovered routine: set_name\n",
      "Discovered routine: simple_dig\n",
      "Discovered routine: simple_walk\n"
     ]
    }
   ],
   "source": [
    "import asyncio\n",
    "import logging\n",
    "import json\n",
    "import re\n",
    "import traceback\n",
    "from contextlib import asynccontextmanager\n",
    "from typing import Any, Dict, Set, Optional, Tuple\n",
    "\n",
    "from fastapi import FastAPI, HTTPException, WebSocket, WebSocketDisconnect\n",
    "from fastapi.responses import FileResponse, Response\n",
    "from fastapi.middleware.cors import CORSMiddleware\n",
    "from starlette.staticfiles import StaticFiles\n",
    "\n",
    "from backend.server import Server\n",
    "from backend.turtle_handler import Turtle\n",
    "import backend.db_state as db_state\n",
    "from routines import discover_routines\n",
    "from routines.base import Routine\n",
    "from main import \n",
    "\n",
    "server = Server() # Initialize the TCP server that manages connections to ComputerCraft turtles\n",
    "\n",
    "# Auto-discover and register all available routines from the routines package\n",
    "routine_registry: Dict[str, Routine] = discover_routines()\n",
    "\n",
    "print(server)\n",
    "for rt in routine_registry.keys():\n",
    "    print(f\"Discovered routine: {rt}\")"
   ]
  },
  {
   "cell_type": "code",
   "execution_count": null,
   "id": "bc361566",
   "metadata": {},
   "outputs": [
    {
     "data": {
      "text/plain": [
       "<coroutine object Server.start at 0x7fff0c7317b0>"
      ]
     },
     "execution_count": 11,
     "metadata": {},
     "output_type": "execute_result"
    }
   ],
   "source": []
  },
  {
   "cell_type": "code",
   "execution_count": null,
   "id": "44ea1c66",
   "metadata": {},
   "outputs": [],
   "source": []
  }
 ],
 "metadata": {
  "kernelspec": {
   "display_name": ".venv (3.11.2)",
   "language": "python",
   "name": "python3"
  },
  "language_info": {
   "codemirror_mode": {
    "name": "ipython",
    "version": 3
   },
   "file_extension": ".py",
   "mimetype": "text/x-python",
   "name": "python",
   "nbconvert_exporter": "python",
   "pygments_lexer": "ipython3",
   "version": "3.11.2"
  }
 },
 "nbformat": 4,
 "nbformat_minor": 5
}
